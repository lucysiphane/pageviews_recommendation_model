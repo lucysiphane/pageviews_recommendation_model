{
 "cells": [
  {
   "cell_type": "code",
   "execution_count": 30,
   "id": "a1a05256",
   "metadata": {},
   "outputs": [],
   "source": [
    "import pandas as pd\n"
   ]
  },
  {
   "cell_type": "code",
   "execution_count": 31,
   "id": "232535b2",
   "metadata": {},
   "outputs": [
    {
     "data": {
      "text/html": [
       "<div>\n",
       "<style scoped>\n",
       "    .dataframe tbody tr th:only-of-type {\n",
       "        vertical-align: middle;\n",
       "    }\n",
       "\n",
       "    .dataframe tbody tr th {\n",
       "        vertical-align: top;\n",
       "    }\n",
       "\n",
       "    .dataframe thead th {\n",
       "        text-align: right;\n",
       "    }\n",
       "</style>\n",
       "<table border=\"1\" class=\"dataframe\">\n",
       "  <thead>\n",
       "    <tr style=\"text-align: right;\">\n",
       "      <th></th>\n",
       "      <th>userId</th>\n",
       "      <th>pageURL</th>\n",
       "      <th>rating</th>\n",
       "    </tr>\n",
       "  </thead>\n",
       "  <tbody>\n",
       "    <tr>\n",
       "      <th>0</th>\n",
       "      <td>1.026454e+06</td>\n",
       "      <td>https://shop.googlemerchandisestore.com/</td>\n",
       "      <td>7</td>\n",
       "    </tr>\n",
       "    <tr>\n",
       "      <th>1</th>\n",
       "      <td>1.029693e+06</td>\n",
       "      <td>https://shop.googlemerchandisestore.com/Google...</td>\n",
       "      <td>5</td>\n",
       "    </tr>\n",
       "    <tr>\n",
       "      <th>2</th>\n",
       "      <td>1.031481e+06</td>\n",
       "      <td>https://shop.googlemerchandisestore.com/Google...</td>\n",
       "      <td>5</td>\n",
       "    </tr>\n",
       "    <tr>\n",
       "      <th>3</th>\n",
       "      <td>1.034925e+06</td>\n",
       "      <td>https://shop.googlemerchandisestore.com/Google...</td>\n",
       "      <td>4</td>\n",
       "    </tr>\n",
       "    <tr>\n",
       "      <th>4</th>\n",
       "      <td>1.037360e+06</td>\n",
       "      <td>https://shop.googlemerchandisestore.com/store....</td>\n",
       "      <td>5</td>\n",
       "    </tr>\n",
       "    <tr>\n",
       "      <th>...</th>\n",
       "      <td>...</td>\n",
       "      <td>...</td>\n",
       "      <td>...</td>\n",
       "    </tr>\n",
       "    <tr>\n",
       "      <th>4793</th>\n",
       "      <td>9.021021e+09</td>\n",
       "      <td>https://shop.googlemerchandisestore.com/google...</td>\n",
       "      <td>1</td>\n",
       "    </tr>\n",
       "    <tr>\n",
       "      <th>4794</th>\n",
       "      <td>9.050622e+09</td>\n",
       "      <td>https://shop.googlemerchandisestore.com/store....</td>\n",
       "      <td>6</td>\n",
       "    </tr>\n",
       "    <tr>\n",
       "      <th>4795</th>\n",
       "      <td>9.100857e+09</td>\n",
       "      <td>https://shop.googlemerchandisestore.com/Google...</td>\n",
       "      <td>5</td>\n",
       "    </tr>\n",
       "    <tr>\n",
       "      <th>4796</th>\n",
       "      <td>9.100857e+09</td>\n",
       "      <td>https://shop.googlemerchandisestore.com/Google...</td>\n",
       "      <td>3</td>\n",
       "    </tr>\n",
       "    <tr>\n",
       "      <th>4797</th>\n",
       "      <td>5.243763e+07</td>\n",
       "      <td>https://shop.googlemerchandisestore.com/asearc...</td>\n",
       "      <td>1</td>\n",
       "    </tr>\n",
       "  </tbody>\n",
       "</table>\n",
       "<p>4798 rows × 3 columns</p>\n",
       "</div>"
      ],
      "text/plain": [
       "            userId                                            pageURL  rating\n",
       "0     1.026454e+06           https://shop.googlemerchandisestore.com/       7\n",
       "1     1.029693e+06  https://shop.googlemerchandisestore.com/Google...       5\n",
       "2     1.031481e+06  https://shop.googlemerchandisestore.com/Google...       5\n",
       "3     1.034925e+06  https://shop.googlemerchandisestore.com/Google...       4\n",
       "4     1.037360e+06  https://shop.googlemerchandisestore.com/store....       5\n",
       "...            ...                                                ...     ...\n",
       "4793  9.021021e+09  https://shop.googlemerchandisestore.com/google...       1\n",
       "4794  9.050622e+09  https://shop.googlemerchandisestore.com/store....       6\n",
       "4795  9.100857e+09  https://shop.googlemerchandisestore.com/Google...       5\n",
       "4796  9.100857e+09  https://shop.googlemerchandisestore.com/Google...       3\n",
       "4797  5.243763e+07  https://shop.googlemerchandisestore.com/asearc...       1\n",
       "\n",
       "[4798 rows x 3 columns]"
      ]
     },
     "execution_count": 31,
     "metadata": {},
     "output_type": "execute_result"
    }
   ],
   "source": [
    "data=pd.read_csv('train_data.csv')\n",
    "data"
   ]
  },
  {
   "cell_type": "code",
   "execution_count": 32,
   "id": "90ff708c",
   "metadata": {},
   "outputs": [],
   "source": [
    "import pandas as pd\n",
    "import numpy as np\n",
    "from sklearn.metrics.pairwise import cosine_similarity\n",
    "from scipy.sparse import csr_matrix\n",
    "from sklearn.preprocessing import LabelEncoder"
   ]
  },
  {
   "cell_type": "code",
   "execution_count": 33,
   "id": "1343a125",
   "metadata": {},
   "outputs": [],
   "source": [
    "user_encoder = LabelEncoder()\n",
    "page_encoder = LabelEncoder()\n",
    "data['encoded_userId'] = user_encoder.fit_transform(data['userId'])\n",
    "data['encoded_pageURL'] = page_encoder.fit_transform(data['pageURL'])\n",
    "data['rating'] = pd.to_numeric(data['rating'], errors='coerce').fillna(0).astype(float)"
   ]
  },
  {
   "cell_type": "code",
   "execution_count": 34,
   "id": "8a8a57b7",
   "metadata": {},
   "outputs": [],
   "source": [
    "ratings_matrix = csr_matrix(\n",
    "    (data['rating'], (data['encoded_userId'], data['encoded_pageURL'])),\n",
    "    shape=(len(user_encoder.classes_), len(page_encoder.classes_))\n",
    ")"
   ]
  },
  {
   "cell_type": "code",
   "execution_count": null,
   "id": "62ce93ce",
   "metadata": {},
   "outputs": [],
   "source": [
    "item_similarity = cosine_similarity(ratings_matrix.T, dense_output=False)"
   ]
  }
 ],
 "metadata": {
  "kernelspec": {
   "display_name": "Python 3",
   "language": "python",
   "name": "python3"
  },
  "language_info": {
   "codemirror_mode": {
    "name": "ipython",
    "version": 3
   },
   "file_extension": ".py",
   "mimetype": "text/x-python",
   "name": "python",
   "nbconvert_exporter": "python",
   "pygments_lexer": "ipython3",
   "version": "3.13.3"
  }
 },
 "nbformat": 4,
 "nbformat_minor": 5
}
